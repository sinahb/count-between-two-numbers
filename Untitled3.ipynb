{
 "cells": [
  {
   "cell_type": "markdown",
   "id": "0211f862-7d86-4cfa-b56c-2175444e6499",
   "metadata": {},
   "source": [
    "# جدا سازی عرض های مختلف از فایل اکسل "
   ]
  },
  {
   "cell_type": "code",
   "execution_count": null,
   "id": "5ebdb47d-af89-4b0c-91c0-cfa82c3c53b2",
   "metadata": {},
   "outputs": [],
   "source": [
    "import pandas as pd\n",
    "\n",
    "# خواندن فایل اکسل به عنوان DataFrame\n",
    "file_path = 'd://new1//92376_reject  habibnia 14021012.xlsx'\n",
    "df = pd.read_excel(file_path)\n",
    "\n",
    "# گروه‌بندی بر اساس مقادیر ستون 'category'\n",
    "grouped = df.groupby('WID_ACTL_PRDST')\n",
    "\n",
    "# ذخیره هر گروه به صورت فایل اکسل جدید\n",
    "for group_name, group_data in grouped:\n",
    "    print(f'exporting output_{group_name}.xlsx')\n",
    "    output_file_path = f'd://new4//output_{group_name}.xlsx'  # نام فایل خروجی بر اساس نام گروه\n",
    "    group_data.to_excel(output_file_path, index=False)\n",
    "\n",
    "print(\"Done.\")\n"
   ]
  },
  {
   "cell_type": "markdown",
   "id": "44f60241-865e-4b5f-ad6e-4ffe23e578de",
   "metadata": {},
   "source": [
    "# نهایی با بقیه متغییر ها"
   ]
  },
  {
   "cell_type": "code",
   "execution_count": null,
   "id": "9f5daa8a-5a4c-4331-ae29-61079bd1e288",
   "metadata": {},
   "outputs": [],
   "source": [
    "import pandas as pd\n",
    "\n",
    "print(\"Running ...\")\n",
    "sheet = 0   #شماره شیت مورد نظر\n",
    "file_n = \"output_1250.xlsx\"   #اسم فایل مورد نظر\n",
    "file_path = f'd://new4//{file_n}'\n",
    "data = pd.read_excel(file_path, sheet_name=sheet)\n",
    "sheet_names = xls.sheet_names\n",
    "\n",
    "index_values = []    # ساخت آرایه خالی برای ذخیره عیوب اسلب\n",
    "for index, value in value_counts.items():    # حلقه برای محاسبه تعداد و اسم عیوب و ذخیره در آرایه \n",
    "    index_values.append(index)\n",
    "    \n",
    "previous_value = 0\n",
    "output_data = []     # ساخت آرایه خالی برای مقادیر نهایی\n",
    "\n",
    "for value in index_values:    # حلقه به ازای تعداد عیوب محصولات\n",
    "    x = 0\n",
    "    for index, row in data.iterrows():\n",
    "        num_value = index + 1\n",
    "        \n",
    "        reject_value = row['DES_REJ']    # اسم ستون عیب\n",
    "        date_value = row['DAT_CUT_SLAB']    # اسم ستون زمان کات اسلب \n",
    "        slab_id = row['COD_ID_PRDST']\n",
    "        \n",
    "        CCM = row['CCM']\n",
    "        COD_REJ = row['COD_REJ']\n",
    "        LTH_PRODUCTION_TIME = row['LTH_PRODUCTION_TIME']\n",
    "        WEI_PRODUCTION_TIME = row['WEI_PRODUCTION_TIME']\n",
    "        WEI_ACTL_PRDST = row['WEI_ACTL_PRDST']\n",
    "        CHILD_SLAB = row['CHILD_SLAB']\n",
    "        COD_LAST_STA_PRODT = row['COD_LAST_STA_PRODT']\n",
    "        PRODT_PRODUCT_ID_PRDST = row['PRODT_PRODUCT_ID_PRDST']\n",
    "        LTH_ACTL_PRDST = row['LTH_ACTL_PRDST']\n",
    "        TKS_ACTL_PRDST = row['TKS_ACTL_PRDST']\n",
    "        WID_ACTL_PRDST = row['WID_ACTL_PRDST']\n",
    "        GRADE = row['GRADE']\n",
    "        GRADE_PLAN = row['GRADE_PLAN']\n",
    "        COD_DEV = row['COD_DEV']\n",
    "        DES_DEV = row['DES_DEV']\n",
    "        DEFECT_ABNORMAL_1 = row['DEFECT_ABNORMAL_1']\n",
    "        DEFECT_ABNORMAL_2 = row['DEFECT_ABNORMAL_2']\n",
    "        WEI_ACCEPT = row['WEI_ACCEPT']\n",
    "        WEI_CURRENT = row['WEI_CURRENT']\n",
    "        LKP_END_PRODT = row['LKP_END_PRODT']\n",
    "        DAT_END_PRODT = row['DAT_END_PRODT']\n",
    "        DAT_PRODT = row['DAT_PRODT']\n",
    "        HEATING_TIM = row['HEATING_TIM']\n",
    "        HOLDING_TIM = row['HOLDING_TIM']\n",
    "\n",
    "\n",
    "\n",
    "\n",
    "        \n",
    "        \n",
    "        if reject_value == value:\n",
    "            difference = num_value - previous_value\n",
    "            x = x + 1\n",
    "            if difference >= 0:    # شرط حذف اولین سطر در هر عیب\n",
    "                output_data.append([slab_id, CCM, date_value, value, difference - 1,  x, COD_REJ, LTH_PRODUCTION_TIME, WEI_PRODUCTION_TIME,\n",
    "                                    WEI_ACTL_PRDST, CHILD_SLAB, COD_LAST_STA_PRODT, PRODT_PRODUCT_ID_PRDST, LTH_ACTL_PRDST, TKS_ACTL_PRDST,\n",
    "                                    WID_ACTL_PRDST,GRADE, GRADE_PLAN, COD_DEV, DES_DEV, DEFECT_ABNORMAL_1, DEFECT_ABNORMAL_2, WEI_ACCEPT,\n",
    "                                    WEI_CURRENT,LKP_END_PRODT,DAT_END_PRODT, DAT_PRODT, HEATING_TIM, HOLDING_TIM])\n",
    "            previous_value = num_value\n",
    "\n",
    "output_df = pd.DataFrame(output_data, columns=['COD_ID_PRDST', 'CCM', 'DAT_CUT_SLAB', 'DES_REJ', 'difference', 'counter', 'COD_REJ',\n",
    "                                               'LTH_PRODUCTION_TIME', 'WEI_PRODUCTION_TIME','WEI_ACTL_PRDST', 'CHILD_SLAB',\n",
    "                                               'COD_LAST_STA_PRODT', 'PRODT_PRODUCT_ID_PRDST','LTH_ACTL_PRDST', 'TKS_ACTL_PRDST',\n",
    "                                               'WID_ACTL_PRDST','GRADE', 'GRADE_PLAN', 'COD_DEV', 'DES_DEV', 'DEFECT_ABNORMAL_1',\n",
    "                                               'DEFECT_ABNORMAL_2', 'WEI_ACCEPT', 'WEI_CURRENT','LKP_END_PRODT', 'DAT_END_PRODT',\n",
    "                                               'DAT_PRODT', 'HEATING_TIM', 'HOLDING_TIM'])\n",
    "\n",
    "# ذخیره DataFrame در فایل اکسل\n",
    "output_file_path = (f'd://new4//Diff_{file_n}')\n",
    "output_df.to_excel(output_file_path, index=False, header=True)\n",
    "print(\"Calculated.\")"
   ]
  },
  {
   "cell_type": "markdown",
   "id": "cf8483b8-30d4-48f1-9ada-9ed15a48c371",
   "metadata": {},
   "source": [
    "# حذف اولین سطر با مقدار 1 و حذف ستون counter"
   ]
  },
  {
   "cell_type": "code",
   "execution_count": null,
   "id": "ff9a77a5-2303-4972-b67c-5e6e0f8426d1",
   "metadata": {},
   "outputs": [],
   "source": [
    "import pandas as pd\n",
    "\n",
    "# خواندن فایل اکسل به عنوان DataFrame\n",
    "path = \"Diff_output_1000\"\n",
    "file_path = f'd://new4//{path}.xlsx'\n",
    "df = pd.read_excel(file_path)\n",
    "\n",
    "# حذف سطرهایی که مقدار در ستون خاص مشخص شده است (برای مثال 'COLUMN_NAME' و 'VALUE_TO_DROP')\n",
    "df = df[df['counter'] != 1]\n",
    "df = df.drop(columns=['counter'], axis=1)\n",
    "\n",
    "# ذخیره DataFrame در فایل اکسل\n",
    "output_file_path = f'd://new4//Final_{path}.xlsx'\n",
    "df.to_excel(output_file_path, index=False)\n",
    "print(\"Done!\")"
   ]
  },
  {
   "cell_type": "code",
   "execution_count": null,
   "id": "2d409d6f-9f55-45ef-96b3-627222d7b2d8",
   "metadata": {},
   "outputs": [],
   "source": []
  }
 ],
 "metadata": {
  "kernelspec": {
   "display_name": "Python 3 (ipykernel)",
   "language": "python",
   "name": "python3"
  },
  "language_info": {
   "codemirror_mode": {
    "name": "ipython",
    "version": 3
   },
   "file_extension": ".py",
   "mimetype": "text/x-python",
   "name": "python",
   "nbconvert_exporter": "python",
   "pygments_lexer": "ipython3",
   "version": "3.9.0"
  }
 },
 "nbformat": 4,
 "nbformat_minor": 5
}
